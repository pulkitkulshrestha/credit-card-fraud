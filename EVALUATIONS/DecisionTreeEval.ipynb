{
 "cells": [
  {
   "cell_type": "code",
   "execution_count": 1,
   "metadata": {},
   "outputs": [],
   "source": [
    "pathToData = '../DATA/'\n",
    "pathToEvaluations = '../EVALUATIONS/'\n",
    "\n",
    "# Method to calculate True positive and False positive rate\n",
    "def perf_measure(y_actual, y_hat):\n",
    "    TP = 0\n",
    "    FP = 0\n",
    "    TN = 0\n",
    "    FN = 0\n",
    "\n",
    "    for i in range(len(y_hat)): \n",
    "        if y_actual[i]==y_hat[i]==1:\n",
    "            TP += 1\n",
    "        if y_hat[i]==1 and y_actual[i]!=y_hat[i]:\n",
    "            FP += 1\n",
    "        if y_actual[i]==y_hat[i]==0:\n",
    "            TN += 1\n",
    "        if y_hat[i]==0 and y_actual[i]!=y_hat[i]:\n",
    "            FN += 1\n",
    "    \n",
    "    print(\"True Positives:\", TP)\n",
    "    print(\"False Negatives:\", FN)\n",
    "    print(\"True Negatives:\", TN)\n",
    "    print(\"False Positives:\", FP)\n",
    "    \n",
    "    print(\"True Positive Rate:\", TP / (TP + FN))\n",
    "    print(\"False Positive Rate:\", FP / (FP + TN))\n",
    "    \n",
    "    return(TP, FP, TN, FN)"
   ]
  },
  {
   "cell_type": "code",
   "execution_count": 2,
   "metadata": {},
   "outputs": [],
   "source": [
    "import pandas as pd\n",
    "X_test = pd.read_csv(pathToData + 'X_test.csv', index_col=0)\n",
    "y_test = pd.read_csv(pathToData + 'y_test.csv', index_col=0)\n",
    "\n",
    "import pickle\n",
    "with open(pathToEvaluations + 'DecisionTree.model', 'rb') as file:\n",
    "    clf = pickle.load(file)"
   ]
  },
  {
   "cell_type": "code",
   "execution_count": 3,
   "metadata": {},
   "outputs": [],
   "source": [
    "y_pred = clf.predict(X_test)"
   ]
  },
  {
   "cell_type": "code",
   "execution_count": 4,
   "metadata": {},
   "outputs": [
    {
     "name": "stdout",
     "output_type": "stream",
     "text": [
      "True Positives: 1526\n",
      "False Negatives: 590\n",
      "True Negatives: 175711\n",
      "False Positives: 566\n",
      "True Positive Rate: 0.72117202268431\n",
      "False Positive Rate: 0.0032108556419725774\n",
      "False Negative Rate: 0.27882797731569\n",
      "Precision:  0.7294455066921606\n",
      "Recall:  0.72117202268431\n",
      "F1 Score:  0.7252851711026617\n"
     ]
    }
   ],
   "source": [
    "TP, FP, TN, FN = perf_measure(list(y_test['fraud']), y_pred)\n",
    "PRECISION = TP/(TP + FP)\n",
    "RECALL = TP/(TP + FN)\n",
    "print(\"False Negative Rate:\", FN / (TP + FN))\n",
    "print('Precision: ', PRECISION)\n",
    "print('Recall: ', RECALL)\n",
    "print('F1 Score: ', 2 * (PRECISION*RECALL) / (PRECISION+RECALL))"
   ]
  },
  {
   "cell_type": "code",
   "execution_count": 5,
   "metadata": {},
   "outputs": [
    {
     "data": {
      "image/png": "[encoded data removed]",
      "text/plain": [
       "<Figure size 432x288 with 1 Axes>"
      ]
     },
     "metadata": {
      "needs_background": "light"
     },
     "output_type": "display_data"
    }
   ],
   "source": [
    "from matplotlib import pyplot as plt\n",
    "\n",
    "def f_importances(coef, names):\n",
    "    imp = coef\n",
    "    imp,names = zip(*sorted(zip(imp,names)))\n",
    "    plt.barh(range(len(names)), imp, align='center')\n",
    "    plt.yticks(range(len(names)), names)\n",
    "    plt.show()\n",
    "\n",
    "f_importances(clf.feature_importances_, list(X_test.columns))"
   ]
  }
 ],
 "metadata": {
  "kernelspec": {
   "display_name": "base",
   "language": "python",
   "name": "python3"
  },
  "language_info": {
   "codemirror_mode": {
    "name": "ipython",
    "version": 3
   },
   "file_extension": ".py",
   "mimetype": "text/x-python",
   "name": "python",
   "nbconvert_exporter": "python",
   "pygments_lexer": "ipython3",
   "version": "3.9.12"
  },
  "orig_nbformat": 4
 },
 "nbformat": 4,
 "nbformat_minor": 2
}
