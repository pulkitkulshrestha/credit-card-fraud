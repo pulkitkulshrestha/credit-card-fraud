{
 "cells": [
  {
   "cell_type": "code",
   "execution_count": 1,
   "metadata": {},
   "outputs": [],
   "source": [
    "pathToData = '../DATA/'\n",
    "pathToEvaluations = '../EVALUATIONS/'\n",
    "\n",
    "# Method to calculate True positive and False positive rate\n",
    "def perf_measure(y_actual, y_hat):\n",
    "    TP = 0\n",
    "    FP = 0\n",
    "    TN = 0\n",
    "    FN = 0\n",
    "\n",
    "    for i in range(len(y_hat)): \n",
    "        if y_actual[i]==y_hat[i]==1:\n",
    "            TP += 1\n",
    "        if y_hat[i]==1 and y_actual[i]!=y_hat[i]:\n",
    "            FP += 1\n",
    "        if y_actual[i]==y_hat[i]==0:\n",
    "            TN += 1\n",
    "        if y_hat[i]==0 and y_actual[i]!=y_hat[i]:\n",
    "            FN += 1\n",
    "    \n",
    "    print(\"True Positives:\", TP)\n",
    "    print(\"False Negatives:\", FN)\n",
    "    print(\"True Negatives:\", TN)\n",
    "    print(\"False Positives:\", FP)\n",
    "    \n",
    "    print(\"True Positive Rate:\", TP / (TP + FN))\n",
    "    print(\"False Positive Rate:\", FP / (FP + TN))\n",
    "    \n",
    "    return(TP, FP, TN, FN)"
   ]
  },
  {
   "cell_type": "code",
   "execution_count": 2,
   "metadata": {},
   "outputs": [],
   "source": [
    "import pandas as pd\n",
    "X_test = pd.read_csv(pathToData + 'X_test.csv', index_col=0)\n",
    "y_test = pd.read_csv(pathToData + 'y_test.csv', index_col=0)\n",
    "\n",
    "import pickle\n",
    "with open(pathToEvaluations + 'IsolationForest.model', 'rb') as file:\n",
    "    isolation_forest = pickle.load(file)"
   ]
  },
  {
   "cell_type": "code",
   "execution_count": 3,
   "metadata": {},
   "outputs": [],
   "source": [
    "y_pred = isolation_forest.predict(X_test)\n",
    "\n",
    "y_pred[y_pred == 1] = 0\n",
    "y_pred[y_pred == -1] = 1"
   ]
  },
  {
   "cell_type": "code",
   "execution_count": 4,
   "metadata": {},
   "outputs": [
    {
     "name": "stdout",
     "output_type": "stream",
     "text": [
      "True Positives: 2116\n",
      "False Negatives: 0\n",
      "True Negatives: 145607\n",
      "False Positives: 30670\n",
      "True Positive Rate: 1.0\n",
      "False Positive Rate: 0.17398753098816067\n",
      "False Negative Rate: 0.0\n",
      "Precision:  0.06453974257304947\n",
      "Recall:  1.0\n",
      "F1 Score:  0.12125379634404905\n"
     ]
    }
   ],
   "source": [
    "TP, FP, TN, FN = perf_measure(list(y_test['fraud']), y_pred)\n",
    "PRECISION = TP/(TP + FP)\n",
    "RECALL = TP/(TP + FN)\n",
    "print(\"False Negative Rate:\", FN / (TP + FN))\n",
    "print('Precision: ', PRECISION)\n",
    "print('Recall: ', RECALL)\n",
    "print('F1 Score: ', 2 * (PRECISION*RECALL) / (PRECISION+RECALL))"
   ]
  }
 ],
 "metadata": {
  "kernelspec": {
   "display_name": "base",
   "language": "python",
   "name": "python3"
  },
  "language_info": {
   "codemirror_mode": {
    "name": "ipython",
    "version": 3
   },
   "file_extension": ".py",
   "mimetype": "text/x-python",
   "name": "python",
   "nbconvert_exporter": "python",
   "pygments_lexer": "ipython3",
   "version": "3.9.12"
  },
  "orig_nbformat": 4
 },
 "nbformat": 4,
 "nbformat_minor": 2
}
